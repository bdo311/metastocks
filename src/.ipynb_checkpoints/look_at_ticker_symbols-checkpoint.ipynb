{
 "metadata": {
  "name": "",
  "signature": "sha256:a41bcdffd15a510d0a65c2bdc635cd2eba31aabebf97882bc04966d05b25770f"
 },
 "nbformat": 3,
 "nbformat_minor": 0,
 "worksheets": []
}